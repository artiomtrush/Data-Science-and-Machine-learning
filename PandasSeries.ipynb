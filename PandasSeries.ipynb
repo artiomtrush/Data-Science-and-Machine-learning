{
 "cells": [
  {
   "cell_type": "code",
   "execution_count": 23,
   "id": "f220ac04",
   "metadata": {},
   "outputs": [],
   "source": [
    "import numpy as np\n",
    "import pandas as pd"
   ]
  },
  {
   "cell_type": "code",
   "execution_count": 27,
   "id": "32954f50",
   "metadata": {},
   "outputs": [],
   "source": [
    "letters = ['a','b','c','d','e','f']\n",
    "arr = np.arange(3,7,6)"
   ]
  },
  {
   "cell_type": "code",
   "execution_count": 3,
   "id": "47bcd665",
   "metadata": {},
   "outputs": [],
   "source": [
    "letters = ['a','b','c']\n",
    "numbers = [1,2,3]\n",
    "np_arr = np.array(numbers)\n",
    "dict = {'a':1, 'b':2, 'c':3}"
   ]
  },
  {
   "cell_type": "code",
   "execution_count": 8,
   "id": "77c6b44e",
   "metadata": {},
   "outputs": [
    {
     "data": {
      "text/plain": [
       "0    1\n",
       "1    2\n",
       "2    3\n",
       "dtype: int64"
      ]
     },
     "execution_count": 8,
     "metadata": {},
     "output_type": "execute_result"
    }
   ],
   "source": [
    "pd.Series(data=numbers)"
   ]
  },
  {
   "cell_type": "code",
   "execution_count": 9,
   "id": "adf6a653",
   "metadata": {},
   "outputs": [
    {
     "data": {
      "text/plain": [
       "a    1\n",
       "b    2\n",
       "c    3\n",
       "dtype: int64"
      ]
     },
     "execution_count": 9,
     "metadata": {},
     "output_type": "execute_result"
    }
   ],
   "source": [
    "pd.Series(data=numbers, index=letters)"
   ]
  },
  {
   "cell_type": "code",
   "execution_count": 10,
   "id": "2d883be9",
   "metadata": {},
   "outputs": [
    {
     "data": {
      "text/plain": [
       "a    1\n",
       "b    2\n",
       "c    3\n",
       "dtype: int64"
      ]
     },
     "execution_count": 10,
     "metadata": {},
     "output_type": "execute_result"
    }
   ],
   "source": [
    "pd.Series(numbers,letters)"
   ]
  },
  {
   "cell_type": "code",
   "execution_count": 4,
   "id": "489a1095",
   "metadata": {},
   "outputs": [
    {
     "data": {
      "text/plain": [
       "['a', 'b', 'c']"
      ]
     },
     "execution_count": 4,
     "metadata": {},
     "output_type": "execute_result"
    }
   ],
   "source": [
    "letters"
   ]
  },
  {
   "cell_type": "code",
   "execution_count": 11,
   "id": "acb7daaf",
   "metadata": {},
   "outputs": [
    {
     "data": {
      "text/plain": [
       "a    1\n",
       "b    2\n",
       "c    3\n",
       "dtype: int64"
      ]
     },
     "execution_count": 11,
     "metadata": {},
     "output_type": "execute_result"
    }
   ],
   "source": [
    "pd.Series(dict)"
   ]
  },
  {
   "cell_type": "code",
   "execution_count": 13,
   "id": "501d78e8",
   "metadata": {},
   "outputs": [],
   "source": [
    "life_sity = pd.Series([84.7, 84.5,83.2],['Minsk', 'Gomel', 'Mozyr'])"
   ]
  },
  {
   "cell_type": "code",
   "execution_count": 14,
   "id": "d4b56804",
   "metadata": {},
   "outputs": [
    {
     "data": {
      "text/plain": [
       "Minsk    84.7\n",
       "Gomel    84.5\n",
       "Mozyr    83.2\n",
       "dtype: float64"
      ]
     },
     "execution_count": 14,
     "metadata": {},
     "output_type": "execute_result"
    }
   ],
   "source": [
    "life_sity"
   ]
  },
  {
   "cell_type": "code",
   "execution_count": 15,
   "id": "f113d29f",
   "metadata": {},
   "outputs": [
    {
     "data": {
      "text/plain": [
       "83.2"
      ]
     },
     "execution_count": 15,
     "metadata": {},
     "output_type": "execute_result"
    }
   ],
   "source": [
    "life_sity['Mozyr']"
   ]
  },
  {
   "cell_type": "code",
   "execution_count": 16,
   "id": "be1d5c6a",
   "metadata": {},
   "outputs": [],
   "source": [
    "life_sity_1 = pd.Series([84.7, 84.5,83.2],['Minsk', 'Gomel', 'Mozyr'])"
   ]
  },
  {
   "cell_type": "code",
   "execution_count": 17,
   "id": "f947f933",
   "metadata": {},
   "outputs": [
    {
     "data": {
      "text/plain": [
       "Minsk    169.4\n",
       "Gomel    169.0\n",
       "Mozyr    166.4\n",
       "dtype: float64"
      ]
     },
     "execution_count": 17,
     "metadata": {},
     "output_type": "execute_result"
    }
   ],
   "source": [
    "life_sity + life_sity_1"
   ]
  },
  {
   "cell_type": "code",
   "execution_count": 18,
   "id": "92e46fe1",
   "metadata": {},
   "outputs": [],
   "source": [
    "life_sity_2 = pd.Series([84.7, 84.5,83.2],['Pinsk', 'Gomel', 'Mozyr'])"
   ]
  },
  {
   "cell_type": "code",
   "execution_count": 19,
   "id": "f9475ec2",
   "metadata": {},
   "outputs": [
    {
     "data": {
      "text/plain": [
       "Gomel    169.0\n",
       "Minsk      NaN\n",
       "Mozyr    166.4\n",
       "Pinsk      NaN\n",
       "dtype: float64"
      ]
     },
     "execution_count": 19,
     "metadata": {},
     "output_type": "execute_result"
    }
   ],
   "source": [
    "life_sity + life_sity_2"
   ]
  },
  {
   "cell_type": "code",
   "execution_count": null,
   "id": "f47d1689",
   "metadata": {},
   "outputs": [],
   "source": []
  },
  {
   "cell_type": "code",
   "execution_count": 5,
   "id": "df93d0a9",
   "metadata": {},
   "outputs": [
    {
     "data": {
      "text/plain": [
       "[1, 2, 3]"
      ]
     },
     "execution_count": 5,
     "metadata": {},
     "output_type": "execute_result"
    }
   ],
   "source": [
    "numbers"
   ]
  },
  {
   "cell_type": "code",
   "execution_count": 6,
   "id": "65c2b100",
   "metadata": {},
   "outputs": [
    {
     "data": {
      "text/plain": [
       "array([1, 2, 3])"
      ]
     },
     "execution_count": 6,
     "metadata": {},
     "output_type": "execute_result"
    }
   ],
   "source": [
    "np_arr"
   ]
  },
  {
   "cell_type": "code",
   "execution_count": 7,
   "id": "65a715e4",
   "metadata": {},
   "outputs": [
    {
     "data": {
      "text/plain": [
       "{'a': 1, 'b': 2, 'c': 3}"
      ]
     },
     "execution_count": 7,
     "metadata": {},
     "output_type": "execute_result"
    }
   ],
   "source": [
    "dict"
   ]
  },
  {
   "cell_type": "code",
   "execution_count": 21,
   "id": "fd9199bd",
   "metadata": {},
   "outputs": [
    {
     "name": "stdout",
     "output_type": "stream",
     "text": [
      "0       red\n",
      "1    yellow\n",
      "2     black\n",
      "3     white\n",
      "4     green\n",
      "5    orange\n",
      "6      blue\n",
      "dtype: object\n"
     ]
    }
   ],
   "source": [
    "print(pd.Series(['red', 'yellow', 'black', 'white', 'green', 'orange', 'blue']))"
   ]
  },
  {
   "cell_type": "code",
   "execution_count": 35,
   "id": "0366498f",
   "metadata": {},
   "outputs": [],
   "source": [
    "letters = ['a','b','c','d','e','f']\n",
    "arr = np.random.randint(3,7,6)"
   ]
  },
  {
   "cell_type": "code",
   "execution_count": 36,
   "id": "adaf98bc",
   "metadata": {},
   "outputs": [
    {
     "data": {
      "text/plain": [
       "['a', 'b', 'c', 'd', 'e', 'f']"
      ]
     },
     "execution_count": 36,
     "metadata": {},
     "output_type": "execute_result"
    }
   ],
   "source": [
    "letters"
   ]
  },
  {
   "cell_type": "code",
   "execution_count": 37,
   "id": "1c06be3f",
   "metadata": {},
   "outputs": [
    {
     "data": {
      "text/plain": [
       "array([5, 6, 6, 4, 6, 6])"
      ]
     },
     "execution_count": 37,
     "metadata": {},
     "output_type": "execute_result"
    }
   ],
   "source": [
    "arr"
   ]
  },
  {
   "cell_type": "code",
   "execution_count": 39,
   "id": "cb73e0e1",
   "metadata": {},
   "outputs": [
    {
     "name": "stdout",
     "output_type": "stream",
     "text": [
      "a    5\n",
      "b    6\n",
      "c    6\n",
      "d    4\n",
      "e    6\n",
      "f    6\n",
      "dtype: int64\n"
     ]
    }
   ],
   "source": [
    "print(pd.Series(arr, letters))"
   ]
  },
  {
   "cell_type": "code",
   "execution_count": null,
   "id": "d629b6d7",
   "metadata": {},
   "outputs": [],
   "source": []
  }
 ],
 "metadata": {
  "kernelspec": {
   "display_name": "Python 3 (ipykernel)",
   "language": "python",
   "name": "python3"
  },
  "language_info": {
   "codemirror_mode": {
    "name": "ipython",
    "version": 3
   },
   "file_extension": ".py",
   "mimetype": "text/x-python",
   "name": "python",
   "nbconvert_exporter": "python",
   "pygments_lexer": "ipython3",
   "version": "3.8.5"
  }
 },
 "nbformat": 4,
 "nbformat_minor": 5
}

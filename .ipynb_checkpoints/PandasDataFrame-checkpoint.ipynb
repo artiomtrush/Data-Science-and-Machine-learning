{
 "cells": [
  {
   "cell_type": "code",
   "execution_count": 1,
   "id": "0909c6cc",
   "metadata": {},
   "outputs": [],
   "source": [
    "import numpy as np\n",
    "import pandas as pd"
   ]
  },
  {
   "cell_type": "code",
   "execution_count": 2,
   "id": "7f68fbf2",
   "metadata": {},
   "outputs": [],
   "source": [
    "fs_datfr = pd.DataFrame(np.random.randn(4,5), [1,2,3,4], ['yellow', 'black', 'white', 'green', 'blue'])"
   ]
  },
  {
   "cell_type": "code",
   "execution_count": 3,
   "id": "0a8d0c65",
   "metadata": {},
   "outputs": [
    {
     "data": {
      "text/html": [
       "<div>\n",
       "<style scoped>\n",
       "    .dataframe tbody tr th:only-of-type {\n",
       "        vertical-align: middle;\n",
       "    }\n",
       "\n",
       "    .dataframe tbody tr th {\n",
       "        vertical-align: top;\n",
       "    }\n",
       "\n",
       "    .dataframe thead th {\n",
       "        text-align: right;\n",
       "    }\n",
       "</style>\n",
       "<table border=\"1\" class=\"dataframe\">\n",
       "  <thead>\n",
       "    <tr style=\"text-align: right;\">\n",
       "      <th></th>\n",
       "      <th>yellow</th>\n",
       "      <th>black</th>\n",
       "      <th>white</th>\n",
       "      <th>green</th>\n",
       "      <th>blue</th>\n",
       "    </tr>\n",
       "  </thead>\n",
       "  <tbody>\n",
       "    <tr>\n",
       "      <th>1</th>\n",
       "      <td>-0.025939</td>\n",
       "      <td>0.523306</td>\n",
       "      <td>0.248903</td>\n",
       "      <td>0.336880</td>\n",
       "      <td>0.702935</td>\n",
       "    </tr>\n",
       "    <tr>\n",
       "      <th>2</th>\n",
       "      <td>-0.208004</td>\n",
       "      <td>0.122821</td>\n",
       "      <td>-1.820191</td>\n",
       "      <td>0.159236</td>\n",
       "      <td>-0.090085</td>\n",
       "    </tr>\n",
       "    <tr>\n",
       "      <th>3</th>\n",
       "      <td>-0.622817</td>\n",
       "      <td>1.798077</td>\n",
       "      <td>-0.256122</td>\n",
       "      <td>-1.178703</td>\n",
       "      <td>0.915652</td>\n",
       "    </tr>\n",
       "    <tr>\n",
       "      <th>4</th>\n",
       "      <td>0.514624</td>\n",
       "      <td>0.488826</td>\n",
       "      <td>0.763531</td>\n",
       "      <td>0.785275</td>\n",
       "      <td>0.563351</td>\n",
       "    </tr>\n",
       "  </tbody>\n",
       "</table>\n",
       "</div>"
      ],
      "text/plain": [
       "     yellow     black     white     green      blue\n",
       "1 -0.025939  0.523306  0.248903  0.336880  0.702935\n",
       "2 -0.208004  0.122821 -1.820191  0.159236 -0.090085\n",
       "3 -0.622817  1.798077 -0.256122 -1.178703  0.915652\n",
       "4  0.514624  0.488826  0.763531  0.785275  0.563351"
      ]
     },
     "execution_count": 3,
     "metadata": {},
     "output_type": "execute_result"
    }
   ],
   "source": [
    "fs_datfr"
   ]
  },
  {
   "cell_type": "code",
   "execution_count": 8,
   "id": "f3836e2b",
   "metadata": {},
   "outputs": [
    {
     "data": {
      "text/plain": [
       "1    0.336880\n",
       "2    0.159236\n",
       "3   -1.178703\n",
       "4    0.785275\n",
       "Name: green, dtype: float64"
      ]
     },
     "execution_count": 8,
     "metadata": {},
     "output_type": "execute_result"
    }
   ],
   "source": [
    "fs_datfr['green']"
   ]
  },
  {
   "cell_type": "code",
   "execution_count": 9,
   "id": "97f49e6f",
   "metadata": {},
   "outputs": [
    {
     "data": {
      "text/plain": [
       "pandas.core.series.Series"
      ]
     },
     "execution_count": 9,
     "metadata": {},
     "output_type": "execute_result"
    }
   ],
   "source": [
    "type(fs_datfr['green'])"
   ]
  },
  {
   "cell_type": "code",
   "execution_count": 10,
   "id": "985ef7e0",
   "metadata": {},
   "outputs": [
    {
     "data": {
      "text/plain": [
       "pandas.core.frame.DataFrame"
      ]
     },
     "execution_count": 10,
     "metadata": {},
     "output_type": "execute_result"
    }
   ],
   "source": [
    "type(fs_datfr)"
   ]
  },
  {
   "cell_type": "code",
   "execution_count": 11,
   "id": "d55fa124",
   "metadata": {},
   "outputs": [
    {
     "data": {
      "text/html": [
       "<div>\n",
       "<style scoped>\n",
       "    .dataframe tbody tr th:only-of-type {\n",
       "        vertical-align: middle;\n",
       "    }\n",
       "\n",
       "    .dataframe tbody tr th {\n",
       "        vertical-align: top;\n",
       "    }\n",
       "\n",
       "    .dataframe thead th {\n",
       "        text-align: right;\n",
       "    }\n",
       "</style>\n",
       "<table border=\"1\" class=\"dataframe\">\n",
       "  <thead>\n",
       "    <tr style=\"text-align: right;\">\n",
       "      <th></th>\n",
       "      <th>green</th>\n",
       "      <th>blue</th>\n",
       "    </tr>\n",
       "  </thead>\n",
       "  <tbody>\n",
       "    <tr>\n",
       "      <th>1</th>\n",
       "      <td>0.336880</td>\n",
       "      <td>0.702935</td>\n",
       "    </tr>\n",
       "    <tr>\n",
       "      <th>2</th>\n",
       "      <td>0.159236</td>\n",
       "      <td>-0.090085</td>\n",
       "    </tr>\n",
       "    <tr>\n",
       "      <th>3</th>\n",
       "      <td>-1.178703</td>\n",
       "      <td>0.915652</td>\n",
       "    </tr>\n",
       "    <tr>\n",
       "      <th>4</th>\n",
       "      <td>0.785275</td>\n",
       "      <td>0.563351</td>\n",
       "    </tr>\n",
       "  </tbody>\n",
       "</table>\n",
       "</div>"
      ],
      "text/plain": [
       "      green      blue\n",
       "1  0.336880  0.702935\n",
       "2  0.159236 -0.090085\n",
       "3 -1.178703  0.915652\n",
       "4  0.785275  0.563351"
      ]
     },
     "execution_count": 11,
     "metadata": {},
     "output_type": "execute_result"
    }
   ],
   "source": [
    "fs_datfr[['green', 'blue']]"
   ]
  },
  {
   "cell_type": "code",
   "execution_count": 18,
   "id": "fec717a9",
   "metadata": {},
   "outputs": [
    {
     "data": {
      "text/plain": [
       "pandas.core.frame.DataFrame"
      ]
     },
     "execution_count": 18,
     "metadata": {},
     "output_type": "execute_result"
    }
   ],
   "source": [
    "type(fs_datfr[['green', 'blue']])"
   ]
  },
  {
   "cell_type": "code",
   "execution_count": 24,
   "id": "31750c35",
   "metadata": {},
   "outputs": [],
   "source": [
    "fs_datfr ['indigo'] = fs_datfr['green']"
   ]
  },
  {
   "cell_type": "code",
   "execution_count": 25,
   "id": "435714f5",
   "metadata": {},
   "outputs": [
    {
     "data": {
      "text/html": [
       "<div>\n",
       "<style scoped>\n",
       "    .dataframe tbody tr th:only-of-type {\n",
       "        vertical-align: middle;\n",
       "    }\n",
       "\n",
       "    .dataframe tbody tr th {\n",
       "        vertical-align: top;\n",
       "    }\n",
       "\n",
       "    .dataframe thead th {\n",
       "        text-align: right;\n",
       "    }\n",
       "</style>\n",
       "<table border=\"1\" class=\"dataframe\">\n",
       "  <thead>\n",
       "    <tr style=\"text-align: right;\">\n",
       "      <th></th>\n",
       "      <th>yellow</th>\n",
       "      <th>black</th>\n",
       "      <th>white</th>\n",
       "      <th>green</th>\n",
       "      <th>blue</th>\n",
       "      <th>indigo</th>\n",
       "    </tr>\n",
       "  </thead>\n",
       "  <tbody>\n",
       "    <tr>\n",
       "      <th>1</th>\n",
       "      <td>-0.025939</td>\n",
       "      <td>0.523306</td>\n",
       "      <td>0.248903</td>\n",
       "      <td>0.336880</td>\n",
       "      <td>0.702935</td>\n",
       "      <td>0.336880</td>\n",
       "    </tr>\n",
       "    <tr>\n",
       "      <th>2</th>\n",
       "      <td>-0.208004</td>\n",
       "      <td>0.122821</td>\n",
       "      <td>-1.820191</td>\n",
       "      <td>0.159236</td>\n",
       "      <td>-0.090085</td>\n",
       "      <td>0.159236</td>\n",
       "    </tr>\n",
       "    <tr>\n",
       "      <th>3</th>\n",
       "      <td>-0.622817</td>\n",
       "      <td>1.798077</td>\n",
       "      <td>-0.256122</td>\n",
       "      <td>-1.178703</td>\n",
       "      <td>0.915652</td>\n",
       "      <td>-1.178703</td>\n",
       "    </tr>\n",
       "    <tr>\n",
       "      <th>4</th>\n",
       "      <td>0.514624</td>\n",
       "      <td>0.488826</td>\n",
       "      <td>0.763531</td>\n",
       "      <td>0.785275</td>\n",
       "      <td>0.563351</td>\n",
       "      <td>0.785275</td>\n",
       "    </tr>\n",
       "  </tbody>\n",
       "</table>\n",
       "</div>"
      ],
      "text/plain": [
       "     yellow     black     white     green      blue    indigo\n",
       "1 -0.025939  0.523306  0.248903  0.336880  0.702935  0.336880\n",
       "2 -0.208004  0.122821 -1.820191  0.159236 -0.090085  0.159236\n",
       "3 -0.622817  1.798077 -0.256122 -1.178703  0.915652 -1.178703\n",
       "4  0.514624  0.488826  0.763531  0.785275  0.563351  0.785275"
      ]
     },
     "execution_count": 25,
     "metadata": {},
     "output_type": "execute_result"
    }
   ],
   "source": [
    "fs_datfr"
   ]
  },
  {
   "cell_type": "code",
   "execution_count": 26,
   "id": "6b5a8243",
   "metadata": {},
   "outputs": [],
   "source": [
    "fs_datfr ['krez'] = fs_datfr['green'] + fs_datfr['blue']"
   ]
  },
  {
   "cell_type": "code",
   "execution_count": 27,
   "id": "57f50cf7",
   "metadata": {},
   "outputs": [
    {
     "data": {
      "text/html": [
       "<div>\n",
       "<style scoped>\n",
       "    .dataframe tbody tr th:only-of-type {\n",
       "        vertical-align: middle;\n",
       "    }\n",
       "\n",
       "    .dataframe tbody tr th {\n",
       "        vertical-align: top;\n",
       "    }\n",
       "\n",
       "    .dataframe thead th {\n",
       "        text-align: right;\n",
       "    }\n",
       "</style>\n",
       "<table border=\"1\" class=\"dataframe\">\n",
       "  <thead>\n",
       "    <tr style=\"text-align: right;\">\n",
       "      <th></th>\n",
       "      <th>yellow</th>\n",
       "      <th>black</th>\n",
       "      <th>white</th>\n",
       "      <th>green</th>\n",
       "      <th>blue</th>\n",
       "      <th>indigo</th>\n",
       "      <th>krez</th>\n",
       "    </tr>\n",
       "  </thead>\n",
       "  <tbody>\n",
       "    <tr>\n",
       "      <th>1</th>\n",
       "      <td>-0.025939</td>\n",
       "      <td>0.523306</td>\n",
       "      <td>0.248903</td>\n",
       "      <td>0.336880</td>\n",
       "      <td>0.702935</td>\n",
       "      <td>0.336880</td>\n",
       "      <td>1.039814</td>\n",
       "    </tr>\n",
       "    <tr>\n",
       "      <th>2</th>\n",
       "      <td>-0.208004</td>\n",
       "      <td>0.122821</td>\n",
       "      <td>-1.820191</td>\n",
       "      <td>0.159236</td>\n",
       "      <td>-0.090085</td>\n",
       "      <td>0.159236</td>\n",
       "      <td>0.069151</td>\n",
       "    </tr>\n",
       "    <tr>\n",
       "      <th>3</th>\n",
       "      <td>-0.622817</td>\n",
       "      <td>1.798077</td>\n",
       "      <td>-0.256122</td>\n",
       "      <td>-1.178703</td>\n",
       "      <td>0.915652</td>\n",
       "      <td>-1.178703</td>\n",
       "      <td>-0.263052</td>\n",
       "    </tr>\n",
       "    <tr>\n",
       "      <th>4</th>\n",
       "      <td>0.514624</td>\n",
       "      <td>0.488826</td>\n",
       "      <td>0.763531</td>\n",
       "      <td>0.785275</td>\n",
       "      <td>0.563351</td>\n",
       "      <td>0.785275</td>\n",
       "      <td>1.348626</td>\n",
       "    </tr>\n",
       "  </tbody>\n",
       "</table>\n",
       "</div>"
      ],
      "text/plain": [
       "     yellow     black     white     green      blue    indigo      krez\n",
       "1 -0.025939  0.523306  0.248903  0.336880  0.702935  0.336880  1.039814\n",
       "2 -0.208004  0.122821 -1.820191  0.159236 -0.090085  0.159236  0.069151\n",
       "3 -0.622817  1.798077 -0.256122 -1.178703  0.915652 -1.178703 -0.263052\n",
       "4  0.514624  0.488826  0.763531  0.785275  0.563351  0.785275  1.348626"
      ]
     },
     "execution_count": 27,
     "metadata": {},
     "output_type": "execute_result"
    }
   ],
   "source": [
    "fs_datfr"
   ]
  },
  {
   "cell_type": "code",
   "execution_count": 29,
   "id": "0d0d9ebe",
   "metadata": {},
   "outputs": [
    {
     "data": {
      "text/plain": [
       "yellow    0.514624\n",
       "black     0.488826\n",
       "white     0.763531\n",
       "green     0.785275\n",
       "blue      0.563351\n",
       "indigo    0.785275\n",
       "krez      1.348626\n",
       "Name: 4, dtype: float64"
      ]
     },
     "execution_count": 29,
     "metadata": {},
     "output_type": "execute_result"
    }
   ],
   "source": [
    "fs_datfr.loc[4]"
   ]
  },
  {
   "cell_type": "code",
   "execution_count": 30,
   "id": "241e08bd",
   "metadata": {},
   "outputs": [
    {
     "data": {
      "text/plain": [
       "yellow   -0.622817\n",
       "black     1.798077\n",
       "white    -0.256122\n",
       "green    -1.178703\n",
       "blue      0.915652\n",
       "indigo   -1.178703\n",
       "krez     -0.263052\n",
       "Name: 3, dtype: float64"
      ]
     },
     "execution_count": 30,
     "metadata": {},
     "output_type": "execute_result"
    }
   ],
   "source": [
    "fs_datfr.iloc[2]"
   ]
  },
  {
   "cell_type": "code",
   "execution_count": 31,
   "id": "970e0278",
   "metadata": {},
   "outputs": [
    {
     "data": {
      "text/html": [
       "<div>\n",
       "<style scoped>\n",
       "    .dataframe tbody tr th:only-of-type {\n",
       "        vertical-align: middle;\n",
       "    }\n",
       "\n",
       "    .dataframe tbody tr th {\n",
       "        vertical-align: top;\n",
       "    }\n",
       "\n",
       "    .dataframe thead th {\n",
       "        text-align: right;\n",
       "    }\n",
       "</style>\n",
       "<table border=\"1\" class=\"dataframe\">\n",
       "  <thead>\n",
       "    <tr style=\"text-align: right;\">\n",
       "      <th></th>\n",
       "      <th>yellow</th>\n",
       "      <th>black</th>\n",
       "      <th>white</th>\n",
       "      <th>green</th>\n",
       "      <th>blue</th>\n",
       "      <th>indigo</th>\n",
       "      <th>krez</th>\n",
       "    </tr>\n",
       "  </thead>\n",
       "  <tbody>\n",
       "    <tr>\n",
       "      <th>1</th>\n",
       "      <td>-0.025939</td>\n",
       "      <td>0.523306</td>\n",
       "      <td>0.248903</td>\n",
       "      <td>0.336880</td>\n",
       "      <td>0.702935</td>\n",
       "      <td>0.336880</td>\n",
       "      <td>1.039814</td>\n",
       "    </tr>\n",
       "    <tr>\n",
       "      <th>2</th>\n",
       "      <td>-0.208004</td>\n",
       "      <td>0.122821</td>\n",
       "      <td>-1.820191</td>\n",
       "      <td>0.159236</td>\n",
       "      <td>-0.090085</td>\n",
       "      <td>0.159236</td>\n",
       "      <td>0.069151</td>\n",
       "    </tr>\n",
       "    <tr>\n",
       "      <th>3</th>\n",
       "      <td>-0.622817</td>\n",
       "      <td>1.798077</td>\n",
       "      <td>-0.256122</td>\n",
       "      <td>-1.178703</td>\n",
       "      <td>0.915652</td>\n",
       "      <td>-1.178703</td>\n",
       "      <td>-0.263052</td>\n",
       "    </tr>\n",
       "    <tr>\n",
       "      <th>4</th>\n",
       "      <td>0.514624</td>\n",
       "      <td>0.488826</td>\n",
       "      <td>0.763531</td>\n",
       "      <td>0.785275</td>\n",
       "      <td>0.563351</td>\n",
       "      <td>0.785275</td>\n",
       "      <td>1.348626</td>\n",
       "    </tr>\n",
       "  </tbody>\n",
       "</table>\n",
       "</div>"
      ],
      "text/plain": [
       "     yellow     black     white     green      blue    indigo      krez\n",
       "1 -0.025939  0.523306  0.248903  0.336880  0.702935  0.336880  1.039814\n",
       "2 -0.208004  0.122821 -1.820191  0.159236 -0.090085  0.159236  0.069151\n",
       "3 -0.622817  1.798077 -0.256122 -1.178703  0.915652 -1.178703 -0.263052\n",
       "4  0.514624  0.488826  0.763531  0.785275  0.563351  0.785275  1.348626"
      ]
     },
     "execution_count": 31,
     "metadata": {},
     "output_type": "execute_result"
    }
   ],
   "source": [
    "fs_datfr"
   ]
  },
  {
   "cell_type": "code",
   "execution_count": 34,
   "id": "97701ecc",
   "metadata": {},
   "outputs": [],
   "source": [
    "fs_datfr.loc[4] = fs_datfr.loc[1]"
   ]
  },
  {
   "cell_type": "code",
   "execution_count": 35,
   "id": "da92c326",
   "metadata": {},
   "outputs": [
    {
     "data": {
      "text/html": [
       "<div>\n",
       "<style scoped>\n",
       "    .dataframe tbody tr th:only-of-type {\n",
       "        vertical-align: middle;\n",
       "    }\n",
       "\n",
       "    .dataframe tbody tr th {\n",
       "        vertical-align: top;\n",
       "    }\n",
       "\n",
       "    .dataframe thead th {\n",
       "        text-align: right;\n",
       "    }\n",
       "</style>\n",
       "<table border=\"1\" class=\"dataframe\">\n",
       "  <thead>\n",
       "    <tr style=\"text-align: right;\">\n",
       "      <th></th>\n",
       "      <th>yellow</th>\n",
       "      <th>black</th>\n",
       "      <th>white</th>\n",
       "      <th>green</th>\n",
       "      <th>blue</th>\n",
       "      <th>indigo</th>\n",
       "      <th>krez</th>\n",
       "    </tr>\n",
       "  </thead>\n",
       "  <tbody>\n",
       "    <tr>\n",
       "      <th>1</th>\n",
       "      <td>-0.025939</td>\n",
       "      <td>0.523306</td>\n",
       "      <td>0.248903</td>\n",
       "      <td>0.336880</td>\n",
       "      <td>0.702935</td>\n",
       "      <td>0.336880</td>\n",
       "      <td>1.039814</td>\n",
       "    </tr>\n",
       "    <tr>\n",
       "      <th>2</th>\n",
       "      <td>-0.208004</td>\n",
       "      <td>0.122821</td>\n",
       "      <td>-1.820191</td>\n",
       "      <td>0.159236</td>\n",
       "      <td>-0.090085</td>\n",
       "      <td>0.159236</td>\n",
       "      <td>0.069151</td>\n",
       "    </tr>\n",
       "    <tr>\n",
       "      <th>3</th>\n",
       "      <td>-0.622817</td>\n",
       "      <td>1.798077</td>\n",
       "      <td>-0.256122</td>\n",
       "      <td>-1.178703</td>\n",
       "      <td>0.915652</td>\n",
       "      <td>-1.178703</td>\n",
       "      <td>-0.263052</td>\n",
       "    </tr>\n",
       "    <tr>\n",
       "      <th>4</th>\n",
       "      <td>-0.025939</td>\n",
       "      <td>0.523306</td>\n",
       "      <td>0.248903</td>\n",
       "      <td>0.336880</td>\n",
       "      <td>0.702935</td>\n",
       "      <td>0.336880</td>\n",
       "      <td>1.039814</td>\n",
       "    </tr>\n",
       "  </tbody>\n",
       "</table>\n",
       "</div>"
      ],
      "text/plain": [
       "     yellow     black     white     green      blue    indigo      krez\n",
       "1 -0.025939  0.523306  0.248903  0.336880  0.702935  0.336880  1.039814\n",
       "2 -0.208004  0.122821 -1.820191  0.159236 -0.090085  0.159236  0.069151\n",
       "3 -0.622817  1.798077 -0.256122 -1.178703  0.915652 -1.178703 -0.263052\n",
       "4 -0.025939  0.523306  0.248903  0.336880  0.702935  0.336880  1.039814"
      ]
     },
     "execution_count": 35,
     "metadata": {},
     "output_type": "execute_result"
    }
   ],
   "source": [
    "fs_datfr"
   ]
  },
  {
   "cell_type": "code",
   "execution_count": 36,
   "id": "452333a1",
   "metadata": {},
   "outputs": [],
   "source": [
    "fs_datfr_2 = fs_datfr.copy()"
   ]
  },
  {
   "cell_type": "code",
   "execution_count": 37,
   "id": "1cf5cdcc",
   "metadata": {},
   "outputs": [
    {
     "data": {
      "text/html": [
       "<div>\n",
       "<style scoped>\n",
       "    .dataframe tbody tr th:only-of-type {\n",
       "        vertical-align: middle;\n",
       "    }\n",
       "\n",
       "    .dataframe tbody tr th {\n",
       "        vertical-align: top;\n",
       "    }\n",
       "\n",
       "    .dataframe thead th {\n",
       "        text-align: right;\n",
       "    }\n",
       "</style>\n",
       "<table border=\"1\" class=\"dataframe\">\n",
       "  <thead>\n",
       "    <tr style=\"text-align: right;\">\n",
       "      <th></th>\n",
       "      <th>yellow</th>\n",
       "      <th>black</th>\n",
       "      <th>white</th>\n",
       "      <th>green</th>\n",
       "      <th>blue</th>\n",
       "      <th>indigo</th>\n",
       "      <th>krez</th>\n",
       "    </tr>\n",
       "  </thead>\n",
       "  <tbody>\n",
       "    <tr>\n",
       "      <th>1</th>\n",
       "      <td>-0.025939</td>\n",
       "      <td>0.523306</td>\n",
       "      <td>0.248903</td>\n",
       "      <td>0.336880</td>\n",
       "      <td>0.702935</td>\n",
       "      <td>0.336880</td>\n",
       "      <td>1.039814</td>\n",
       "    </tr>\n",
       "    <tr>\n",
       "      <th>2</th>\n",
       "      <td>-0.208004</td>\n",
       "      <td>0.122821</td>\n",
       "      <td>-1.820191</td>\n",
       "      <td>0.159236</td>\n",
       "      <td>-0.090085</td>\n",
       "      <td>0.159236</td>\n",
       "      <td>0.069151</td>\n",
       "    </tr>\n",
       "    <tr>\n",
       "      <th>3</th>\n",
       "      <td>-0.622817</td>\n",
       "      <td>1.798077</td>\n",
       "      <td>-0.256122</td>\n",
       "      <td>-1.178703</td>\n",
       "      <td>0.915652</td>\n",
       "      <td>-1.178703</td>\n",
       "      <td>-0.263052</td>\n",
       "    </tr>\n",
       "    <tr>\n",
       "      <th>4</th>\n",
       "      <td>-0.025939</td>\n",
       "      <td>0.523306</td>\n",
       "      <td>0.248903</td>\n",
       "      <td>0.336880</td>\n",
       "      <td>0.702935</td>\n",
       "      <td>0.336880</td>\n",
       "      <td>1.039814</td>\n",
       "    </tr>\n",
       "  </tbody>\n",
       "</table>\n",
       "</div>"
      ],
      "text/plain": [
       "     yellow     black     white     green      blue    indigo      krez\n",
       "1 -0.025939  0.523306  0.248903  0.336880  0.702935  0.336880  1.039814\n",
       "2 -0.208004  0.122821 -1.820191  0.159236 -0.090085  0.159236  0.069151\n",
       "3 -0.622817  1.798077 -0.256122 -1.178703  0.915652 -1.178703 -0.263052\n",
       "4 -0.025939  0.523306  0.248903  0.336880  0.702935  0.336880  1.039814"
      ]
     },
     "execution_count": 37,
     "metadata": {},
     "output_type": "execute_result"
    }
   ],
   "source": [
    "fs_datfr_2"
   ]
  },
  {
   "cell_type": "code",
   "execution_count": 40,
   "id": "fae1a8bf",
   "metadata": {},
   "outputs": [],
   "source": [
    "fs_datfr.loc[4] = np.random.randn(1,7)"
   ]
  },
  {
   "cell_type": "code",
   "execution_count": 41,
   "id": "f8767b54",
   "metadata": {},
   "outputs": [
    {
     "data": {
      "text/html": [
       "<div>\n",
       "<style scoped>\n",
       "    .dataframe tbody tr th:only-of-type {\n",
       "        vertical-align: middle;\n",
       "    }\n",
       "\n",
       "    .dataframe tbody tr th {\n",
       "        vertical-align: top;\n",
       "    }\n",
       "\n",
       "    .dataframe thead th {\n",
       "        text-align: right;\n",
       "    }\n",
       "</style>\n",
       "<table border=\"1\" class=\"dataframe\">\n",
       "  <thead>\n",
       "    <tr style=\"text-align: right;\">\n",
       "      <th></th>\n",
       "      <th>yellow</th>\n",
       "      <th>black</th>\n",
       "      <th>white</th>\n",
       "      <th>green</th>\n",
       "      <th>blue</th>\n",
       "      <th>indigo</th>\n",
       "      <th>krez</th>\n",
       "    </tr>\n",
       "  </thead>\n",
       "  <tbody>\n",
       "    <tr>\n",
       "      <th>1</th>\n",
       "      <td>-0.025939</td>\n",
       "      <td>0.523306</td>\n",
       "      <td>0.248903</td>\n",
       "      <td>0.336880</td>\n",
       "      <td>0.702935</td>\n",
       "      <td>0.336880</td>\n",
       "      <td>1.039814</td>\n",
       "    </tr>\n",
       "    <tr>\n",
       "      <th>2</th>\n",
       "      <td>-0.208004</td>\n",
       "      <td>0.122821</td>\n",
       "      <td>-1.820191</td>\n",
       "      <td>0.159236</td>\n",
       "      <td>-0.090085</td>\n",
       "      <td>0.159236</td>\n",
       "      <td>0.069151</td>\n",
       "    </tr>\n",
       "    <tr>\n",
       "      <th>3</th>\n",
       "      <td>-0.622817</td>\n",
       "      <td>1.798077</td>\n",
       "      <td>-0.256122</td>\n",
       "      <td>-1.178703</td>\n",
       "      <td>0.915652</td>\n",
       "      <td>-1.178703</td>\n",
       "      <td>-0.263052</td>\n",
       "    </tr>\n",
       "    <tr>\n",
       "      <th>4</th>\n",
       "      <td>-0.468490</td>\n",
       "      <td>-1.118500</td>\n",
       "      <td>0.449244</td>\n",
       "      <td>-1.154386</td>\n",
       "      <td>-1.294954</td>\n",
       "      <td>1.023201</td>\n",
       "      <td>-0.234861</td>\n",
       "    </tr>\n",
       "  </tbody>\n",
       "</table>\n",
       "</div>"
      ],
      "text/plain": [
       "     yellow     black     white     green      blue    indigo      krez\n",
       "1 -0.025939  0.523306  0.248903  0.336880  0.702935  0.336880  1.039814\n",
       "2 -0.208004  0.122821 -1.820191  0.159236 -0.090085  0.159236  0.069151\n",
       "3 -0.622817  1.798077 -0.256122 -1.178703  0.915652 -1.178703 -0.263052\n",
       "4 -0.468490 -1.118500  0.449244 -1.154386 -1.294954  1.023201 -0.234861"
      ]
     },
     "execution_count": 41,
     "metadata": {},
     "output_type": "execute_result"
    }
   ],
   "source": [
    "fs_datfr"
   ]
  },
  {
   "cell_type": "code",
   "execution_count": 44,
   "id": "50b1bd96",
   "metadata": {},
   "outputs": [
    {
     "data": {
      "text/html": [
       "<div>\n",
       "<style scoped>\n",
       "    .dataframe tbody tr th:only-of-type {\n",
       "        vertical-align: middle;\n",
       "    }\n",
       "\n",
       "    .dataframe tbody tr th {\n",
       "        vertical-align: top;\n",
       "    }\n",
       "\n",
       "    .dataframe thead th {\n",
       "        text-align: right;\n",
       "    }\n",
       "</style>\n",
       "<table border=\"1\" class=\"dataframe\">\n",
       "  <thead>\n",
       "    <tr style=\"text-align: right;\">\n",
       "      <th></th>\n",
       "      <th>white</th>\n",
       "      <th>blue</th>\n",
       "    </tr>\n",
       "  </thead>\n",
       "  <tbody>\n",
       "    <tr>\n",
       "      <th>2</th>\n",
       "      <td>-1.820191</td>\n",
       "      <td>-0.090085</td>\n",
       "    </tr>\n",
       "    <tr>\n",
       "      <th>4</th>\n",
       "      <td>0.449244</td>\n",
       "      <td>-1.294954</td>\n",
       "    </tr>\n",
       "  </tbody>\n",
       "</table>\n",
       "</div>"
      ],
      "text/plain": [
       "      white      blue\n",
       "2 -1.820191 -0.090085\n",
       "4  0.449244 -1.294954"
      ]
     },
     "execution_count": 44,
     "metadata": {},
     "output_type": "execute_result"
    }
   ],
   "source": [
    "fs_datfr.loc[[2,4],['white', 'blue']]"
   ]
  },
  {
   "cell_type": "code",
   "execution_count": 45,
   "id": "00e71c4f",
   "metadata": {},
   "outputs": [
    {
     "name": "stdout",
     "output_type": "stream",
     "text": [
      "   France  Spain  Italy  Germany  Great Breaten\n",
      "a       4      3     54       17             92\n",
      "b      38     40     13       77             65\n",
      "c      61     46     33       47             46\n",
      "d      87     25      9       92             60\n",
      "e      47     88     11       30             56\n",
      "f      36     64     38       83             26\n",
      "g      17    100     64        4             63\n"
     ]
    }
   ],
   "source": [
    "print(pd.DataFrame(np.random.randint(1,101,35).reshape(7,5), ['a','b','c','d','e','f','g'], \n",
    "                  ['France','Spain', 'Italy','Germany','Great Breaten']))"
   ]
  }
 ],
 "metadata": {
  "kernelspec": {
   "display_name": "Python 3 (ipykernel)",
   "language": "python",
   "name": "python3"
  },
  "language_info": {
   "codemirror_mode": {
    "name": "ipython",
    "version": 3
   },
   "file_extension": ".py",
   "mimetype": "text/x-python",
   "name": "python",
   "nbconvert_exporter": "python",
   "pygments_lexer": "ipython3",
   "version": "3.8.5"
  }
 },
 "nbformat": 4,
 "nbformat_minor": 5
}

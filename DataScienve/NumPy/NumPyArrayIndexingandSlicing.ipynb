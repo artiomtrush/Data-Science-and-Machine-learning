{
 "cells": [
  {
   "cell_type": "code",
   "execution_count": 3,
   "id": "6330a9b6",
   "metadata": {},
   "outputs": [],
   "source": [
    "import numpy as np"
   ]
  },
  {
   "cell_type": "code",
   "execution_count": 5,
   "id": "e437e89d",
   "metadata": {},
   "outputs": [],
   "source": [
    "int_arr = np.random.randint(0,10,10) "
   ]
  },
  {
   "cell_type": "code",
   "execution_count": 6,
   "id": "2096eab4",
   "metadata": {},
   "outputs": [
    {
     "data": {
      "text/plain": [
       "array([4, 5, 5, 2, 0, 9, 9, 2, 7, 1])"
      ]
     },
     "execution_count": 6,
     "metadata": {},
     "output_type": "execute_result"
    }
   ],
   "source": [
    "int_arr"
   ]
  },
  {
   "cell_type": "code",
   "execution_count": 7,
   "id": "a0f2350b",
   "metadata": {},
   "outputs": [
    {
     "data": {
      "text/plain": [
       "(4, 1)"
      ]
     },
     "execution_count": 7,
     "metadata": {},
     "output_type": "execute_result"
    }
   ],
   "source": [
    "int_arr[0], int_arr[9]"
   ]
  },
  {
   "cell_type": "code",
   "execution_count": 8,
   "id": "303ddf99",
   "metadata": {},
   "outputs": [
    {
     "data": {
      "text/plain": [
       "5"
      ]
     },
     "execution_count": 8,
     "metadata": {},
     "output_type": "execute_result"
    }
   ],
   "source": [
    "int_arr.argmax()"
   ]
  },
  {
   "cell_type": "code",
   "execution_count": 9,
   "id": "a9b1c168",
   "metadata": {},
   "outputs": [
    {
     "data": {
      "text/plain": [
       "4"
      ]
     },
     "execution_count": 9,
     "metadata": {},
     "output_type": "execute_result"
    }
   ],
   "source": [
    "int_arr.argmin()"
   ]
  },
  {
   "cell_type": "code",
   "execution_count": 10,
   "id": "be9127c7",
   "metadata": {},
   "outputs": [
    {
     "data": {
      "text/plain": [
       "(9, 0)"
      ]
     },
     "execution_count": 10,
     "metadata": {},
     "output_type": "execute_result"
    }
   ],
   "source": [
    "int_arr.max(), int_arr.min()"
   ]
  },
  {
   "cell_type": "code",
   "execution_count": 16,
   "id": "fd54046e",
   "metadata": {},
   "outputs": [
    {
     "data": {
      "text/plain": [
       "array([5, 5, 2])"
      ]
     },
     "execution_count": 16,
     "metadata": {},
     "output_type": "execute_result"
    }
   ],
   "source": [
    "int_arr[1:4]"
   ]
  },
  {
   "cell_type": "code",
   "execution_count": 17,
   "id": "8bd65368",
   "metadata": {},
   "outputs": [],
   "source": [
    "int_arr[1:4] = 10"
   ]
  },
  {
   "cell_type": "code",
   "execution_count": 18,
   "id": "0c2d4495",
   "metadata": {},
   "outputs": [
    {
     "data": {
      "text/plain": [
       "array([ 4, 10, 10, 10,  0,  9,  9,  2,  7,  1])"
      ]
     },
     "execution_count": 18,
     "metadata": {},
     "output_type": "execute_result"
    }
   ],
   "source": [
    "int_arr"
   ]
  },
  {
   "cell_type": "code",
   "execution_count": 19,
   "id": "04e5a9bd",
   "metadata": {},
   "outputs": [],
   "source": [
    "int_arr[1:4] = 9"
   ]
  },
  {
   "cell_type": "code",
   "execution_count": 20,
   "id": "ce801cd6",
   "metadata": {},
   "outputs": [
    {
     "data": {
      "text/plain": [
       "array([4, 9, 9, 9, 0, 9, 9, 2, 7, 1])"
      ]
     },
     "execution_count": 20,
     "metadata": {},
     "output_type": "execute_result"
    }
   ],
   "source": [
    "int_arr"
   ]
  },
  {
   "cell_type": "code",
   "execution_count": 21,
   "id": "816677f8",
   "metadata": {},
   "outputs": [],
   "source": [
    "sec_arr = np.random.randint(0,20,15)"
   ]
  },
  {
   "cell_type": "code",
   "execution_count": 24,
   "id": "6fa58ae2",
   "metadata": {},
   "outputs": [
    {
     "data": {
      "text/plain": [
       "array([ 9, 19,  6,  1,  1,  1,  1,  3, 11,  1, 17, 17,  5,  7, 12])"
      ]
     },
     "execution_count": 24,
     "metadata": {},
     "output_type": "execute_result"
    }
   ],
   "source": [
    "sec_arr"
   ]
  },
  {
   "cell_type": "code",
   "execution_count": 23,
   "id": "3f1a25e1",
   "metadata": {},
   "outputs": [],
   "source": [
    "sec_arr[4:7] = np.random.randint(3)"
   ]
  },
  {
   "cell_type": "code",
   "execution_count": 25,
   "id": "a907b524",
   "metadata": {},
   "outputs": [
    {
     "data": {
      "text/plain": [
       "array([ 9, 19,  6,  1,  1,  1,  1,  3, 11,  1, 17, 17,  5,  7, 12])"
      ]
     },
     "execution_count": 25,
     "metadata": {},
     "output_type": "execute_result"
    }
   ],
   "source": [
    "sec_arr"
   ]
  },
  {
   "cell_type": "code",
   "execution_count": 26,
   "id": "7d8d70d4",
   "metadata": {},
   "outputs": [],
   "source": [
    "sec_arr[4:7] = 2,3,4"
   ]
  },
  {
   "cell_type": "code",
   "execution_count": 27,
   "id": "0becf478",
   "metadata": {},
   "outputs": [
    {
     "data": {
      "text/plain": [
       "array([ 9, 19,  6,  1,  2,  3,  4,  3, 11,  1, 17, 17,  5,  7, 12])"
      ]
     },
     "execution_count": 27,
     "metadata": {},
     "output_type": "execute_result"
    }
   ],
   "source": [
    "sec_arr"
   ]
  },
  {
   "cell_type": "code",
   "execution_count": 28,
   "id": "32b612a2",
   "metadata": {},
   "outputs": [],
   "source": [
    "third_arr = sec_arr.copy()"
   ]
  },
  {
   "cell_type": "code",
   "execution_count": 29,
   "id": "dc8ef263",
   "metadata": {},
   "outputs": [
    {
     "data": {
      "text/plain": [
       "array([ 9, 19,  6,  1,  2,  3,  4,  3, 11,  1, 17, 17,  5,  7, 12])"
      ]
     },
     "execution_count": 29,
     "metadata": {},
     "output_type": "execute_result"
    }
   ],
   "source": [
    "third_arr"
   ]
  },
  {
   "cell_type": "code",
   "execution_count": 30,
   "id": "e1f7e303",
   "metadata": {},
   "outputs": [
    {
     "data": {
      "text/plain": [
       "array([False,  True, False, False, False, False, False, False, False,\n",
       "       False,  True,  True, False, False, False])"
      ]
     },
     "execution_count": 30,
     "metadata": {},
     "output_type": "execute_result"
    }
   ],
   "source": [
    "third_arr > 15"
   ]
  },
  {
   "cell_type": "code",
   "execution_count": 31,
   "id": "5c6723bc",
   "metadata": {},
   "outputs": [],
   "source": [
    "bool_arr = third_arr >15"
   ]
  },
  {
   "cell_type": "code",
   "execution_count": 32,
   "id": "89022d58",
   "metadata": {},
   "outputs": [
    {
     "data": {
      "text/plain": [
       "array([False,  True, False, False, False, False, False, False, False,\n",
       "       False,  True,  True, False, False, False])"
      ]
     },
     "execution_count": 32,
     "metadata": {},
     "output_type": "execute_result"
    }
   ],
   "source": [
    "bool_arr"
   ]
  },
  {
   "cell_type": "code",
   "execution_count": 37,
   "id": "08b6075f",
   "metadata": {},
   "outputs": [
    {
     "data": {
      "text/plain": [
       "array([19, 17, 17])"
      ]
     },
     "execution_count": 37,
     "metadata": {},
     "output_type": "execute_result"
    }
   ],
   "source": [
    "third_arr[bool_arr]"
   ]
  },
  {
   "cell_type": "code",
   "execution_count": 38,
   "id": "bd9b4b94",
   "metadata": {},
   "outputs": [
    {
     "data": {
      "text/plain": [
       "array([0, 1, 2, 3, 4])"
      ]
     },
     "execution_count": 38,
     "metadata": {},
     "output_type": "execute_result"
    }
   ],
   "source": [
    "np.arange(5)"
   ]
  },
  {
   "cell_type": "code",
   "execution_count": 39,
   "id": "f8259fdf",
   "metadata": {},
   "outputs": [],
   "source": [
    "arr = np.arange(8)"
   ]
  },
  {
   "cell_type": "code",
   "execution_count": 40,
   "id": "ed5f15ac",
   "metadata": {},
   "outputs": [
    {
     "data": {
      "text/plain": [
       "array([0, 1, 2, 3, 4, 5, 6, 7])"
      ]
     },
     "execution_count": 40,
     "metadata": {},
     "output_type": "execute_result"
    }
   ],
   "source": [
    "arr"
   ]
  },
  {
   "cell_type": "code",
   "execution_count": 41,
   "id": "c7b921a5",
   "metadata": {},
   "outputs": [
    {
     "data": {
      "text/plain": [
       "array([False, False, False, False, False,  True,  True,  True])"
      ]
     },
     "execution_count": 41,
     "metadata": {},
     "output_type": "execute_result"
    }
   ],
   "source": [
    "arr > 4"
   ]
  },
  {
   "cell_type": "code",
   "execution_count": 42,
   "id": "e1dc6d40",
   "metadata": {},
   "outputs": [],
   "source": [
    "arr_2 = arr > 4"
   ]
  },
  {
   "cell_type": "code",
   "execution_count": 43,
   "id": "3ef18ab4",
   "metadata": {},
   "outputs": [
    {
     "data": {
      "text/plain": [
       "array([False, False, False, False, False,  True,  True,  True])"
      ]
     },
     "execution_count": 43,
     "metadata": {},
     "output_type": "execute_result"
    }
   ],
   "source": [
    "arr_2"
   ]
  },
  {
   "cell_type": "code",
   "execution_count": 44,
   "id": "76ebdffb",
   "metadata": {},
   "outputs": [
    {
     "data": {
      "text/plain": [
       "array([5, 6, 7])"
      ]
     },
     "execution_count": 44,
     "metadata": {},
     "output_type": "execute_result"
    }
   ],
   "source": [
    "arr[arr_2]"
   ]
  },
  {
   "cell_type": "code",
   "execution_count": 46,
   "id": "d46950bb",
   "metadata": {},
   "outputs": [],
   "source": [
    "arr_2 = arr > 2"
   ]
  },
  {
   "cell_type": "code",
   "execution_count": 47,
   "id": "a5ae77bf",
   "metadata": {},
   "outputs": [
    {
     "data": {
      "text/plain": [
       "array([3, 4, 5, 6, 7])"
      ]
     },
     "execution_count": 47,
     "metadata": {},
     "output_type": "execute_result"
    }
   ],
   "source": [
    "arr [arr_2]"
   ]
  },
  {
   "cell_type": "code",
   "execution_count": null,
   "id": "f159a122",
   "metadata": {},
   "outputs": [],
   "source": []
  }
 ],
 "metadata": {
  "kernelspec": {
   "display_name": "Python 3 (ipykernel)",
   "language": "python",
   "name": "python3"
  },
  "language_info": {
   "codemirror_mode": {
    "name": "ipython",
    "version": 3
   },
   "file_extension": ".py",
   "mimetype": "text/x-python",
   "name": "python",
   "nbconvert_exporter": "python",
   "pygments_lexer": "ipython3",
   "version": "3.8.5"
  }
 },
 "nbformat": 4,
 "nbformat_minor": 5
}

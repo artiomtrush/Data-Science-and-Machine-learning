{
 "cells": [
  {
   "cell_type": "code",
   "execution_count": 1,
   "id": "d22bb464",
   "metadata": {},
   "outputs": [],
   "source": [
    "import numpy as np"
   ]
  },
  {
   "cell_type": "code",
   "execution_count": 2,
   "id": "1d944a71",
   "metadata": {},
   "outputs": [],
   "source": [
    "two_dr_arr = np.arange(12).reshape(3,4)"
   ]
  },
  {
   "cell_type": "code",
   "execution_count": 3,
   "id": "e0428102",
   "metadata": {},
   "outputs": [
    {
     "data": {
      "text/plain": [
       "array([[ 0,  1,  2,  3],\n",
       "       [ 4,  5,  6,  7],\n",
       "       [ 8,  9, 10, 11]])"
      ]
     },
     "execution_count": 3,
     "metadata": {},
     "output_type": "execute_result"
    }
   ],
   "source": [
    "two_dr_arr"
   ]
  },
  {
   "cell_type": "code",
   "execution_count": 4,
   "id": "181a0b7f",
   "metadata": {},
   "outputs": [
    {
     "data": {
      "text/plain": [
       "5"
      ]
     },
     "execution_count": 4,
     "metadata": {},
     "output_type": "execute_result"
    }
   ],
   "source": [
    "two_dr_arr[1][1]"
   ]
  },
  {
   "cell_type": "code",
   "execution_count": 5,
   "id": "8b1027cf",
   "metadata": {},
   "outputs": [
    {
     "data": {
      "text/plain": [
       "5"
      ]
     },
     "execution_count": 5,
     "metadata": {},
     "output_type": "execute_result"
    }
   ],
   "source": [
    "two_dr_arr[1,1]"
   ]
  },
  {
   "cell_type": "code",
   "execution_count": 6,
   "id": "8d7b38ff",
   "metadata": {},
   "outputs": [
    {
     "data": {
      "text/plain": [
       "9"
      ]
     },
     "execution_count": 6,
     "metadata": {},
     "output_type": "execute_result"
    }
   ],
   "source": [
    "two_dr_arr[2,1]"
   ]
  },
  {
   "cell_type": "code",
   "execution_count": 7,
   "id": "e552ac09",
   "metadata": {},
   "outputs": [
    {
     "data": {
      "text/plain": [
       "array([[0, 1],\n",
       "       [4, 5]])"
      ]
     },
     "execution_count": 7,
     "metadata": {},
     "output_type": "execute_result"
    }
   ],
   "source": [
    "two_dr_arr[:2, :2]"
   ]
  },
  {
   "cell_type": "code",
   "execution_count": 12,
   "id": "e5c84b9d",
   "metadata": {},
   "outputs": [
    {
     "data": {
      "text/plain": [
       "array([[ 2,  3],\n",
       "       [ 6,  7],\n",
       "       [10, 11]])"
      ]
     },
     "execution_count": 12,
     "metadata": {},
     "output_type": "execute_result"
    }
   ],
   "source": [
    "two_dr_arr[:3, 2:4]"
   ]
  },
  {
   "cell_type": "code",
   "execution_count": 15,
   "id": "2d5561e9",
   "metadata": {},
   "outputs": [],
   "source": [
    "arr = np.random.randint(1,20,10)"
   ]
  },
  {
   "cell_type": "code",
   "execution_count": 16,
   "id": "6393a32f",
   "metadata": {},
   "outputs": [
    {
     "data": {
      "text/plain": [
       "array([11, 18, 15,  9, 17, 14,  7,  5, 16,  5])"
      ]
     },
     "execution_count": 16,
     "metadata": {},
     "output_type": "execute_result"
    }
   ],
   "source": [
    "arr"
   ]
  },
  {
   "cell_type": "code",
   "execution_count": 17,
   "id": "d26ad4df",
   "metadata": {},
   "outputs": [],
   "source": [
    "arr_2 = arr[1:6]"
   ]
  },
  {
   "cell_type": "code",
   "execution_count": 18,
   "id": "205ee007",
   "metadata": {},
   "outputs": [
    {
     "name": "stdout",
     "output_type": "stream",
     "text": [
      "[11 18 15  9 17 14  7  5 16  5]\n"
     ]
    }
   ],
   "source": [
    "print(arr)"
   ]
  },
  {
   "cell_type": "code",
   "execution_count": 19,
   "id": "48fc86c8",
   "metadata": {},
   "outputs": [
    {
     "name": "stdout",
     "output_type": "stream",
     "text": [
      "[18 15  9 17 14]\n"
     ]
    }
   ],
   "source": [
    "print(arr_2)"
   ]
  },
  {
   "cell_type": "code",
   "execution_count": 20,
   "id": "c609536a",
   "metadata": {},
   "outputs": [],
   "source": [
    "arr = np.random.randint(0,20,10)"
   ]
  },
  {
   "cell_type": "code",
   "execution_count": 21,
   "id": "c5a48cfe",
   "metadata": {},
   "outputs": [],
   "source": [
    "arr_2 = arr[3:]"
   ]
  },
  {
   "cell_type": "code",
   "execution_count": 22,
   "id": "631317f8",
   "metadata": {},
   "outputs": [
    {
     "name": "stdout",
     "output_type": "stream",
     "text": [
      "[16  8 18  2 13 19  3 14  6  5]\n"
     ]
    }
   ],
   "source": [
    "print(arr)"
   ]
  },
  {
   "cell_type": "code",
   "execution_count": 23,
   "id": "64d635e7",
   "metadata": {},
   "outputs": [
    {
     "name": "stdout",
     "output_type": "stream",
     "text": [
      "[ 2 13 19  3 14  6  5]\n"
     ]
    }
   ],
   "source": [
    "print(arr_2)"
   ]
  },
  {
   "cell_type": "code",
   "execution_count": 24,
   "id": "86a20be1",
   "metadata": {},
   "outputs": [],
   "source": [
    "arr = np.random.randint(0,11,12).reshape(4,3)"
   ]
  },
  {
   "cell_type": "code",
   "execution_count": 25,
   "id": "6203e974",
   "metadata": {},
   "outputs": [
    {
     "data": {
      "text/plain": [
       "array([[ 2, 10,  3],\n",
       "       [ 8,  5,  1],\n",
       "       [ 9,  5,  6],\n",
       "       [ 4,  4, 10]])"
      ]
     },
     "execution_count": 25,
     "metadata": {},
     "output_type": "execute_result"
    }
   ],
   "source": [
    "arr"
   ]
  },
  {
   "cell_type": "code",
   "execution_count": 27,
   "id": "f389b48f",
   "metadata": {},
   "outputs": [],
   "source": [
    "arr_2 = arr[1:3]"
   ]
  },
  {
   "cell_type": "code",
   "execution_count": 28,
   "id": "a3c97e93",
   "metadata": {},
   "outputs": [
    {
     "name": "stdout",
     "output_type": "stream",
     "text": [
      "[[8 5 1]\n",
      " [9 5 6]]\n"
     ]
    }
   ],
   "source": [
    "print(arr_2)"
   ]
  },
  {
   "cell_type": "code",
   "execution_count": 29,
   "id": "462e176a",
   "metadata": {},
   "outputs": [],
   "source": [
    "arr_3 = arr[:, 1:]"
   ]
  },
  {
   "cell_type": "code",
   "execution_count": 30,
   "id": "eb0f5170",
   "metadata": {},
   "outputs": [
    {
     "name": "stdout",
     "output_type": "stream",
     "text": [
      "[[10  3]\n",
      " [ 5  1]\n",
      " [ 5  6]\n",
      " [ 4 10]]\n"
     ]
    }
   ],
   "source": [
    "print(arr_3)"
   ]
  },
  {
   "cell_type": "code",
   "execution_count": 31,
   "id": "c1d41fc2",
   "metadata": {},
   "outputs": [],
   "source": [
    "arr = np.random.randint(0,9,24).reshape(4,6)"
   ]
  },
  {
   "cell_type": "code",
   "execution_count": 32,
   "id": "c4a5be5f",
   "metadata": {},
   "outputs": [],
   "source": [
    "arr_2 = arr > 3"
   ]
  },
  {
   "cell_type": "code",
   "execution_count": 33,
   "id": "f6bdf6d2",
   "metadata": {},
   "outputs": [
    {
     "name": "stdout",
     "output_type": "stream",
     "text": [
      "[[7 0 4 7 8 7]\n",
      " [0 4 1 5 3 6]\n",
      " [0 7 0 6 6 4]\n",
      " [8 6 1 3 7 4]]\n"
     ]
    }
   ],
   "source": [
    "print(arr)"
   ]
  },
  {
   "cell_type": "code",
   "execution_count": 34,
   "id": "52f5d688",
   "metadata": {},
   "outputs": [
    {
     "name": "stdout",
     "output_type": "stream",
     "text": [
      "[[ True False  True  True  True  True]\n",
      " [False  True False  True False  True]\n",
      " [False  True False  True  True  True]\n",
      " [ True  True False False  True  True]]\n"
     ]
    }
   ],
   "source": [
    "print(arr_2)"
   ]
  },
  {
   "cell_type": "code",
   "execution_count": 35,
   "id": "f2dc412e",
   "metadata": {},
   "outputs": [
    {
     "name": "stdout",
     "output_type": "stream",
     "text": [
      "[7 4 7 8 7 4 5 6 7 6 6 4 8 6 7 4]\n"
     ]
    }
   ],
   "source": [
    "print(arr[arr_2])"
   ]
  },
  {
   "cell_type": "code",
   "execution_count": 36,
   "id": "ef5ca336",
   "metadata": {},
   "outputs": [],
   "source": [
    "arr = np.random.randint(3, 12, 12).reshape(4, 3)"
   ]
  },
  {
   "cell_type": "code",
   "execution_count": 37,
   "id": "a9087eed",
   "metadata": {},
   "outputs": [
    {
     "data": {
      "text/plain": [
       "array([[11, 11,  4],\n",
       "       [ 6,  5, 10],\n",
       "       [ 6,  4,  7],\n",
       "       [ 6,  4,  3]])"
      ]
     },
     "execution_count": 37,
     "metadata": {},
     "output_type": "execute_result"
    }
   ],
   "source": [
    "arr"
   ]
  },
  {
   "cell_type": "code",
   "execution_count": 38,
   "id": "49121993",
   "metadata": {},
   "outputs": [],
   "source": [
    "new_arr = arr[1:3, :2]"
   ]
  },
  {
   "cell_type": "code",
   "execution_count": 39,
   "id": "3c1615b1",
   "metadata": {},
   "outputs": [
    {
     "data": {
      "text/plain": [
       "array([[6, 5],\n",
       "       [6, 4]])"
      ]
     },
     "execution_count": 39,
     "metadata": {},
     "output_type": "execute_result"
    }
   ],
   "source": [
    "new_arr"
   ]
  },
  {
   "cell_type": "code",
   "execution_count": 40,
   "id": "113c4a20",
   "metadata": {},
   "outputs": [],
   "source": [
    "new_arr_2 = arr[:, 1:]"
   ]
  },
  {
   "cell_type": "code",
   "execution_count": 41,
   "id": "0f785275",
   "metadata": {},
   "outputs": [
    {
     "data": {
      "text/plain": [
       "array([[11,  4],\n",
       "       [ 5, 10],\n",
       "       [ 4,  7],\n",
       "       [ 4,  3]])"
      ]
     },
     "execution_count": 41,
     "metadata": {},
     "output_type": "execute_result"
    }
   ],
   "source": [
    "new_arr_2"
   ]
  },
  {
   "cell_type": "code",
   "execution_count": 42,
   "id": "33bfd562",
   "metadata": {},
   "outputs": [],
   "source": [
    "arr = np.random.randint(0,20,9).reshape(3,3)"
   ]
  },
  {
   "cell_type": "code",
   "execution_count": 43,
   "id": "5ec044f6",
   "metadata": {},
   "outputs": [
    {
     "data": {
      "text/plain": [
       "array([[ 0,  1,  9],\n",
       "       [19,  1, 15],\n",
       "       [16, 11, 16]])"
      ]
     },
     "execution_count": 43,
     "metadata": {},
     "output_type": "execute_result"
    }
   ],
   "source": [
    "arr"
   ]
  },
  {
   "cell_type": "code",
   "execution_count": 44,
   "id": "843bf069",
   "metadata": {},
   "outputs": [],
   "source": [
    "arr_2 = arr[:2, 1:]"
   ]
  },
  {
   "cell_type": "code",
   "execution_count": 45,
   "id": "434ec529",
   "metadata": {},
   "outputs": [
    {
     "data": {
      "text/plain": [
       "array([[ 1,  9],\n",
       "       [ 1, 15]])"
      ]
     },
     "execution_count": 45,
     "metadata": {},
     "output_type": "execute_result"
    }
   ],
   "source": [
    "arr_2"
   ]
  },
  {
   "cell_type": "code",
   "execution_count": 46,
   "id": "cdd73810",
   "metadata": {},
   "outputs": [],
   "source": [
    "arr_3 = arr[1:, :2]"
   ]
  },
  {
   "cell_type": "code",
   "execution_count": 47,
   "id": "fe5c63a3",
   "metadata": {},
   "outputs": [
    {
     "data": {
      "text/plain": [
       "array([[19,  1],\n",
       "       [16, 11]])"
      ]
     },
     "execution_count": 47,
     "metadata": {},
     "output_type": "execute_result"
    }
   ],
   "source": [
    "arr_3"
   ]
  },
  {
   "cell_type": "code",
   "execution_count": null,
   "id": "04eaefcd",
   "metadata": {},
   "outputs": [],
   "source": []
  }
 ],
 "metadata": {
  "kernelspec": {
   "display_name": "Python 3 (ipykernel)",
   "language": "python",
   "name": "python3"
  },
  "language_info": {
   "codemirror_mode": {
    "name": "ipython",
    "version": 3
   },
   "file_extension": ".py",
   "mimetype": "text/x-python",
   "name": "python",
   "nbconvert_exporter": "python",
   "pygments_lexer": "ipython3",
   "version": "3.8.5"
  }
 },
 "nbformat": 4,
 "nbformat_minor": 5
}
